{
 "cells": [
  {
   "cell_type": "code",
   "execution_count": 1,
   "id": "9547441e-aea2-4d9e-ab41-7f0e616713d4",
   "metadata": {},
   "outputs": [],
   "source": [
    "import pandas as pd\n",
    "from sklearn.feature_extraction import DictVectorizer\n",
    "from sklearn.linear_model import LinearRegression\n",
    "from sklearn.metrics import root_mean_squared_error\n",
    "import seaborn as sns\n",
    "import matplotlib.pyplot as plt\n",
    "\n",
    "pd.set_option('display.float_format', lambda x: '%.5f' % x)\n",
    "\n"
   ]
  },
  {
   "cell_type": "code",
   "execution_count": 2,
   "id": "677548f1-4940-4545-97a9-e904ff274f7d",
   "metadata": {},
   "outputs": [
    {
     "name": "stdout",
     "output_type": "stream",
     "text": [
      "/home/debashis/mlops_zoomcamp/01-intro\n"
     ]
    }
   ],
   "source": [
    "!pwd"
   ]
  },
  {
   "cell_type": "code",
   "execution_count": 3,
   "id": "7cc3b455-41d9-4e00-a0be-5bef8b2f5a81",
   "metadata": {},
   "outputs": [],
   "source": [
    "df_train = pd.read_parquet('../../data/yellow_tripdata_2023-01.parquet')\n",
    "df_test = pd.read_parquet('../../data/yellow_tripdata_2023-02.parquet')"
   ]
  },
  {
   "cell_type": "code",
   "execution_count": null,
   "id": "2fe2599c",
   "metadata": {},
   "outputs": [],
   "source": [
    "def data_prep(df,output_control='Y'):\n",
    "    if output_control=='Y':\n",
    "        print('Ans to Q1 - Len of train dataset',len(df.columns))\n",
    "    df['duration'] = df['tpep_dropoff_datetime']-df['tpep_pickup_datetime']\n",
    "    df['duration'] = df['duration'].apply(lambda td: td.total_seconds()/60)\n",
    "    if output_control=='Y':\n",
    "        print('Ans to Q2 - STDEV of duration:',df.duration.std())\n",
    "    d = df.shape[0]\n",
    "    df = df[(df.duration >=1)&(df.duration <=60)]\n",
    "    n = df.shape[0]\n",
    "    if output_control=='Y':\n",
    "        print('Ans to Q3 - % data non-outliers:',n/d)\n",
    "    cat = ['PULocationID','DOLocationID']\n",
    "    df[cat] = df[cat].astype(str)\n",
    "    dict1 = df[cat].to_dict(orient = 'records')\n",
    "    y = df.duration.values\n",
    "\n",
    "    return dict1,y\n",
    "\n",
    "\n",
    "def data_prep_v2(train_dict,val_dict):\n",
    "    dv = DictVectorizer()\n",
    "    X_train  = dv.fit_transform(train_dict)\n",
    "    X_val  = dv.transform(val_dict)\n",
    "    print('Ans to Q4 - Shape of input matrix:',X_train.shape[1])\n",
    "    \n",
    "    return X_train,X_val\n"
   ]
  },
  {
   "cell_type": "code",
   "execution_count": 5,
   "id": "2b2a183d",
   "metadata": {},
   "outputs": [
    {
     "name": "stdout",
     "output_type": "stream",
     "text": [
      "Ans to Q1 - Len of train dataset 19\n",
      "Ans to Q2 - STDEV of duration: 42.594351241920904\n",
      "Ans to Q3 - % data non-outliers: 0.9812202822125979\n"
     ]
    },
    {
     "name": "stderr",
     "output_type": "stream",
     "text": [
      "/tmp/ipykernel_36211/3928592417.py:14: SettingWithCopyWarning: \n",
      "A value is trying to be set on a copy of a slice from a DataFrame.\n",
      "Try using .loc[row_indexer,col_indexer] = value instead\n",
      "\n",
      "See the caveats in the documentation: https://pandas.pydata.org/pandas-docs/stable/user_guide/indexing.html#returning-a-view-versus-a-copy\n",
      "  df[cat] = df[cat].astype(str)\n",
      "/tmp/ipykernel_36211/3928592417.py:14: SettingWithCopyWarning: \n",
      "A value is trying to be set on a copy of a slice from a DataFrame.\n",
      "Try using .loc[row_indexer,col_indexer] = value instead\n",
      "\n",
      "See the caveats in the documentation: https://pandas.pydata.org/pandas-docs/stable/user_guide/indexing.html#returning-a-view-versus-a-copy\n",
      "  df[cat] = df[cat].astype(str)\n"
     ]
    },
    {
     "name": "stdout",
     "output_type": "stream",
     "text": [
      "Ans to Q3 - Shape of input matrix: 515\n"
     ]
    }
   ],
   "source": [
    "train_dict, y_train = data_prep(df_train)\n",
    "test_dict,y_test = data_prep(df_test,'N')\n",
    "X_train, X_test = data_prep_v2(train_dict,test_dict)"
   ]
  },
  {
   "cell_type": "code",
   "execution_count": 6,
   "id": "5d5966fd",
   "metadata": {},
   "outputs": [
    {
     "data": {
      "text/plain": [
       "(2855951, 515)"
      ]
     },
     "execution_count": 6,
     "metadata": {},
     "output_type": "execute_result"
    }
   ],
   "source": [
    "X_test.shape"
   ]
  },
  {
   "cell_type": "code",
   "execution_count": null,
   "id": "76333a5e",
   "metadata": {},
   "outputs": [],
   "source": [
    "def model_dev(X_train,y_train,X_test,y_test):\n",
    "    lr = LinearRegression()\n",
    "    lr.fit(X_train,y_train)\n",
    "    y_pred_train = lr.predict(X_train)\n",
    "    print('Ans to Q5: RMSE of Trian: ',root_mean_squared_error(y_train,y_pred_train))\n",
    "    y_pred_test = lr.predict(X_test)\n",
    "    print('Ans to Q6: RMSE of Trian: ',root_mean_squared_error(y_test,y_pred_test))"
   ]
  },
  {
   "cell_type": "code",
   "execution_count": 9,
   "id": "20388fd8",
   "metadata": {},
   "outputs": [
    {
     "name": "stdout",
     "output_type": "stream",
     "text": [
      "Ans to Q5: RMSE of Trian:  7.649261933814427\n",
      "Ans to Q6: RMSE of Trian:  7.811818194347701\n"
     ]
    }
   ],
   "source": [
    "model_dev(X_train,y_train,X_test,y_test)"
   ]
  },
  {
   "cell_type": "code",
   "execution_count": null,
   "id": "b69c4e59",
   "metadata": {},
   "outputs": [],
   "source": []
  }
 ],
 "metadata": {
  "kernelspec": {
   "display_name": "base",
   "language": "python",
   "name": "python3"
  },
  "language_info": {
   "codemirror_mode": {
    "name": "ipython",
    "version": 3
   },
   "file_extension": ".py",
   "mimetype": "text/x-python",
   "name": "python",
   "nbconvert_exporter": "python",
   "pygments_lexer": "ipython3",
   "version": "3.12.7"
  }
 },
 "nbformat": 4,
 "nbformat_minor": 5
}
